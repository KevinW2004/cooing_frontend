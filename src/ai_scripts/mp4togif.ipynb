{
 "cells": [
  {
   "cell_type": "code",
   "execution_count": 1,
   "metadata": {},
   "outputs": [
    {
     "name": "stdout",
     "output_type": "stream",
     "text": [
      "MoviePy - Building file 说话.gif with imageio.\n"
     ]
    },
    {
     "name": "stderr",
     "output_type": "stream",
     "text": [
      "                                                   \r"
     ]
    }
   ],
   "source": [
    "from moviepy.editor import VideoFileClip\n",
    "import imageio\n",
    "from PIL import Image, ImageSequence\n",
    "\n",
    "def convert_video_to_transparent_gif(input_video_path, output_gif_path):\n",
    "    # Load the video\n",
    "    clip = VideoFileClip(input_video_path)\n",
    "    \n",
    "    # Export video frames as PNG images\n",
    "    clip.write_images_sequence('frame%03d.png', fps=clip.fps)\n",
    "    \n",
    "    # Create a list to store images\n",
    "    images = []\n",
    "    \n",
    "    for i in range(int(clip.fps * clip.duration)):\n",
    "        # Open each image\n",
    "        image_path = f'frame{i:03d}.png'\n",
    "        image = Image.open(image_path)\n",
    "        \n",
    "        # Convert image to RGBA (if not already in that mode)\n",
    "        if image.mode != 'RGBA':\n",
    "            image = image.convert('RGBA')\n",
    "        \n",
    "        # Replace black background with transparency\n",
    "        datas = image.getdata()\n",
    "        new_data = []\n",
    "        for item in datas:\n",
    "            if item[:3] == (0, 0, 0):\n",
    "                new_data.append((255, 255, 255, 0))\n",
    "            else:\n",
    "                new_data.append(item)\n",
    "        image.putdata(new_data)\n",
    "        \n",
    "        # Append image to the list\n",
    "        images.append(image)\n",
    "    \n",
    "    # Save images as a GIF\n",
    "    images[0].save(output_gif_path, save_all=True, append_images=images[1:], loop=0, duration=int(1000/clip.fps), transparency=0)\n",
    "\n",
    "# Example usage\n",
    "convert_video_to_transparent_gif('input.mp4', 'output.gif')\n"
   ]
  },
  {
   "cell_type": "code",
   "execution_count": null,
   "metadata": {},
   "outputs": [],
   "source": []
  }
 ],
 "metadata": {
  "kernelspec": {
   "display_name": "MathCal",
   "language": "python",
   "name": "python3"
  },
  "language_info": {
   "codemirror_mode": {
    "name": "ipython",
    "version": 3
   },
   "file_extension": ".py",
   "mimetype": "text/x-python",
   "name": "python",
   "nbconvert_exporter": "python",
   "pygments_lexer": "ipython3",
   "version": "3.10.14"
  }
 },
 "nbformat": 4,
 "nbformat_minor": 2
}
